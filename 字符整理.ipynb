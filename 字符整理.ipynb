{
  "nbformat": 4,
  "nbformat_minor": 0,
  "metadata": {
    "colab": {
      "provenance": [],
      "authorship_tag": "ABX9TyMWYpIIKYAGjD2HEoKbJNdz",
      "include_colab_link": true
    },
    "kernelspec": {
      "name": "python3",
      "display_name": "Python 3"
    },
    "language_info": {
      "name": "python"
    }
  },
  "cells": [
    {
      "cell_type": "markdown",
      "metadata": {
        "id": "view-in-github",
        "colab_type": "text"
      },
      "source": [
        "<a href=\"https://colab.research.google.com/github/nillisGit/GPT-Linebot-python-flask-on-vercel/blob/master/%E5%AD%97%E7%AC%A6%E6%95%B4%E7%90%86.ipynb\" target=\"_parent\"><img src=\"https://colab.research.google.com/assets/colab-badge.svg\" alt=\"Open In Colab\"/></a>"
      ]
    },
    {
      "cell_type": "code",
      "source": [
        "!pip install pysubs2\n",
        "\n",
        "import pysubs2\n",
        "from pysubs2.time import ms_to_times\n",
        "from google.colab import files\n",
        "uploaded = files.upload()\n"
      ],
      "metadata": {
        "colab": {
          "base_uri": "https://localhost:8080/",
          "height": 130
        },
        "id": "LRmUvOG5xYe4",
        "outputId": "0fdf9575-603d-4855-e7f9-659b37d2f813"
      },
      "execution_count": null,
      "outputs": [
        {
          "output_type": "stream",
          "name": "stdout",
          "text": [
            "Looking in indexes: https://pypi.org/simple, https://us-python.pkg.dev/colab-wheels/public/simple/\n",
            "Requirement already satisfied: pysubs2 in /usr/local/lib/python3.9/dist-packages (1.6.1)\n"
          ]
        },
        {
          "output_type": "display_data",
          "data": {
            "text/plain": [
              "<IPython.core.display.HTML object>"
            ],
            "text/html": [
              "\n",
              "     <input type=\"file\" id=\"files-6fa1e0d4-9f92-4a82-8b4d-aaf73573d269\" name=\"files[]\" multiple disabled\n",
              "        style=\"border:none\" />\n",
              "     <output id=\"result-6fa1e0d4-9f92-4a82-8b4d-aaf73573d269\">\n",
              "      Upload widget is only available when the cell has been executed in the\n",
              "      current browser session. Please rerun this cell to enable.\n",
              "      </output>\n",
              "      <script>// Copyright 2017 Google LLC\n",
              "//\n",
              "// Licensed under the Apache License, Version 2.0 (the \"License\");\n",
              "// you may not use this file except in compliance with the License.\n",
              "// You may obtain a copy of the License at\n",
              "//\n",
              "//      http://www.apache.org/licenses/LICENSE-2.0\n",
              "//\n",
              "// Unless required by applicable law or agreed to in writing, software\n",
              "// distributed under the License is distributed on an \"AS IS\" BASIS,\n",
              "// WITHOUT WARRANTIES OR CONDITIONS OF ANY KIND, either express or implied.\n",
              "// See the License for the specific language governing permissions and\n",
              "// limitations under the License.\n",
              "\n",
              "/**\n",
              " * @fileoverview Helpers for google.colab Python module.\n",
              " */\n",
              "(function(scope) {\n",
              "function span(text, styleAttributes = {}) {\n",
              "  const element = document.createElement('span');\n",
              "  element.textContent = text;\n",
              "  for (const key of Object.keys(styleAttributes)) {\n",
              "    element.style[key] = styleAttributes[key];\n",
              "  }\n",
              "  return element;\n",
              "}\n",
              "\n",
              "// Max number of bytes which will be uploaded at a time.\n",
              "const MAX_PAYLOAD_SIZE = 100 * 1024;\n",
              "\n",
              "function _uploadFiles(inputId, outputId) {\n",
              "  const steps = uploadFilesStep(inputId, outputId);\n",
              "  const outputElement = document.getElementById(outputId);\n",
              "  // Cache steps on the outputElement to make it available for the next call\n",
              "  // to uploadFilesContinue from Python.\n",
              "  outputElement.steps = steps;\n",
              "\n",
              "  return _uploadFilesContinue(outputId);\n",
              "}\n",
              "\n",
              "// This is roughly an async generator (not supported in the browser yet),\n",
              "// where there are multiple asynchronous steps and the Python side is going\n",
              "// to poll for completion of each step.\n",
              "// This uses a Promise to block the python side on completion of each step,\n",
              "// then passes the result of the previous step as the input to the next step.\n",
              "function _uploadFilesContinue(outputId) {\n",
              "  const outputElement = document.getElementById(outputId);\n",
              "  const steps = outputElement.steps;\n",
              "\n",
              "  const next = steps.next(outputElement.lastPromiseValue);\n",
              "  return Promise.resolve(next.value.promise).then((value) => {\n",
              "    // Cache the last promise value to make it available to the next\n",
              "    // step of the generator.\n",
              "    outputElement.lastPromiseValue = value;\n",
              "    return next.value.response;\n",
              "  });\n",
              "}\n",
              "\n",
              "/**\n",
              " * Generator function which is called between each async step of the upload\n",
              " * process.\n",
              " * @param {string} inputId Element ID of the input file picker element.\n",
              " * @param {string} outputId Element ID of the output display.\n",
              " * @return {!Iterable<!Object>} Iterable of next steps.\n",
              " */\n",
              "function* uploadFilesStep(inputId, outputId) {\n",
              "  const inputElement = document.getElementById(inputId);\n",
              "  inputElement.disabled = false;\n",
              "\n",
              "  const outputElement = document.getElementById(outputId);\n",
              "  outputElement.innerHTML = '';\n",
              "\n",
              "  const pickedPromise = new Promise((resolve) => {\n",
              "    inputElement.addEventListener('change', (e) => {\n",
              "      resolve(e.target.files);\n",
              "    });\n",
              "  });\n",
              "\n",
              "  const cancel = document.createElement('button');\n",
              "  inputElement.parentElement.appendChild(cancel);\n",
              "  cancel.textContent = 'Cancel upload';\n",
              "  const cancelPromise = new Promise((resolve) => {\n",
              "    cancel.onclick = () => {\n",
              "      resolve(null);\n",
              "    };\n",
              "  });\n",
              "\n",
              "  // Wait for the user to pick the files.\n",
              "  const files = yield {\n",
              "    promise: Promise.race([pickedPromise, cancelPromise]),\n",
              "    response: {\n",
              "      action: 'starting',\n",
              "    }\n",
              "  };\n",
              "\n",
              "  cancel.remove();\n",
              "\n",
              "  // Disable the input element since further picks are not allowed.\n",
              "  inputElement.disabled = true;\n",
              "\n",
              "  if (!files) {\n",
              "    return {\n",
              "      response: {\n",
              "        action: 'complete',\n",
              "      }\n",
              "    };\n",
              "  }\n",
              "\n",
              "  for (const file of files) {\n",
              "    const li = document.createElement('li');\n",
              "    li.append(span(file.name, {fontWeight: 'bold'}));\n",
              "    li.append(span(\n",
              "        `(${file.type || 'n/a'}) - ${file.size} bytes, ` +\n",
              "        `last modified: ${\n",
              "            file.lastModifiedDate ? file.lastModifiedDate.toLocaleDateString() :\n",
              "                                    'n/a'} - `));\n",
              "    const percent = span('0% done');\n",
              "    li.appendChild(percent);\n",
              "\n",
              "    outputElement.appendChild(li);\n",
              "\n",
              "    const fileDataPromise = new Promise((resolve) => {\n",
              "      const reader = new FileReader();\n",
              "      reader.onload = (e) => {\n",
              "        resolve(e.target.result);\n",
              "      };\n",
              "      reader.readAsArrayBuffer(file);\n",
              "    });\n",
              "    // Wait for the data to be ready.\n",
              "    let fileData = yield {\n",
              "      promise: fileDataPromise,\n",
              "      response: {\n",
              "        action: 'continue',\n",
              "      }\n",
              "    };\n",
              "\n",
              "    // Use a chunked sending to avoid message size limits. See b/62115660.\n",
              "    let position = 0;\n",
              "    do {\n",
              "      const length = Math.min(fileData.byteLength - position, MAX_PAYLOAD_SIZE);\n",
              "      const chunk = new Uint8Array(fileData, position, length);\n",
              "      position += length;\n",
              "\n",
              "      const base64 = btoa(String.fromCharCode.apply(null, chunk));\n",
              "      yield {\n",
              "        response: {\n",
              "          action: 'append',\n",
              "          file: file.name,\n",
              "          data: base64,\n",
              "        },\n",
              "      };\n",
              "\n",
              "      let percentDone = fileData.byteLength === 0 ?\n",
              "          100 :\n",
              "          Math.round((position / fileData.byteLength) * 100);\n",
              "      percent.textContent = `${percentDone}% done`;\n",
              "\n",
              "    } while (position < fileData.byteLength);\n",
              "  }\n",
              "\n",
              "  // All done.\n",
              "  yield {\n",
              "    response: {\n",
              "      action: 'complete',\n",
              "    }\n",
              "  };\n",
              "}\n",
              "\n",
              "scope.google = scope.google || {};\n",
              "scope.google.colab = scope.google.colab || {};\n",
              "scope.google.colab._files = {\n",
              "  _uploadFiles,\n",
              "  _uploadFilesContinue,\n",
              "};\n",
              "})(self);\n",
              "</script> "
            ]
          },
          "metadata": {}
        },
        {
          "output_type": "stream",
          "name": "stdout",
          "text": [
            "Saving temp2.txt to temp2.txt\n"
          ]
        }
      ]
    },
    {
      "cell_type": "code",
      "source": [
        "###2 ms to srt timecode\n",
        "# 載入字幕檔 \n",
        "subs = pysubs2.load('./104.srt', encoding='utf-8')\n",
        "\n",
        "def times_to_srt(times):\n",
        "    return f\"{times.h:02d}:{times.m:02d}:{times.s:02d},{times.ms:03d}\"\n",
        "\n",
        "# 將字幕轉換成字典格式\n",
        "subs_list = []\n",
        "for line in subs:\n",
        "    start_time, end_time = times_to_srt(ms_to_times(line.start)), times_to_srt(ms_to_times(line.end))\n",
        "    subs_list.append({\n",
        "        'start': start_time,\n",
        "        'end': end_time,\n",
        "        'text': line.text\n",
        "    })\n",
        "\n",
        "# 將每一行字幕合併成一整個文字\n",
        "\n",
        "alltext = '\\n'.join([l['text'] for l in subs_list])"
      ],
      "metadata": {
        "id": "KhEMKK9WUYQr"
      },
      "execution_count": null,
      "outputs": []
    },
    {
      "cell_type": "code",
      "source": [
        "#### 手動3000上deepL translate\n",
        "def organized(alltext, alpha_numbers=5000, mark='\\n'):\n",
        "  index_list = []\n",
        "  pos = alltext.find(mark)\n",
        "  while pos != -1:\n",
        "      index_list.append(pos)\n",
        "      pos = alltext.find(mark, pos + 1)\n",
        "  result = [0,]\n",
        "  for i in range(1, len(index_list)):\n",
        "      if index_list[i] - result[-1] > alpha_numbers:\n",
        "          result.append(index_list[i-1])  \n",
        "  for i in range(len(result)-1):\n",
        "    if i ==0:\n",
        "      print(alltext[result[i]:result[i+1]+1])\n",
        "      print('\\n')\n",
        "    else:\n",
        "      print(alltext[result[i]+1:result[i+1]+1])\n",
        "      print('\\n')\n",
        "  \n",
        "  end_idx = len(alltext)\n",
        "  print(alltext[result[i+1]+1:end_idx])  \n",
        "\n",
        "organized(alltext, alpha_numbers=3000)     "
      ],
      "metadata": {
        "id": "DOkAqgLCS9nZ"
      },
      "execution_count": null,
      "outputs": []
    },
    {
      "cell_type": "markdown",
      "source": [
        "DEEP翻譯好了 上傳檔案utf8 txt"
      ],
      "metadata": {
        "id": "DuXbqQDXRp-7"
      }
    },
    {
      "cell_type": "code",
      "source": [
        "###2\n",
        "##上傳檔案\n",
        "with open('./temp2.txt', encoding='utf-8') as f:\n",
        "    trans_c = f.read()\n",
        "\n",
        "\n",
        "trans_subs_list = subs_list.copy()\n",
        "trans_c_lines = trans_c.split('\\n')\n",
        "for sub, line in zip(trans_subs_list, trans_c_lines):\n",
        "    sub['text'] = line  \n",
        "\n",
        "\n",
        "index = 1\n",
        "srt_content = ''\n",
        "for sub in trans_subs_list: \n",
        "    start_time = sub['start']\n",
        "    end_time = sub['end']\n",
        "    text = sub['text']\n",
        "    srt_content += f'{index}\\n{start_time} --> {end_time}\\n{text}\\n\\n' \n",
        "    index += 1  \n",
        "with open('subs6.srt', 'w', encoding='utf-8') as f:\n",
        "    f.write(srt_content)\n",
        "files.download('subs6.srt')       "
      ],
      "metadata": {
        "colab": {
          "base_uri": "https://localhost:8080/",
          "height": 17
        },
        "id": "5p4sijSibZzg",
        "outputId": "3dafbc10-0048-49f8-88a0-ec6576f0dfc0"
      },
      "execution_count": null,
      "outputs": [
        {
          "output_type": "display_data",
          "data": {
            "text/plain": [
              "<IPython.core.display.Javascript object>"
            ],
            "application/javascript": [
              "\n",
              "    async function download(id, filename, size) {\n",
              "      if (!google.colab.kernel.accessAllowed) {\n",
              "        return;\n",
              "      }\n",
              "      const div = document.createElement('div');\n",
              "      const label = document.createElement('label');\n",
              "      label.textContent = `Downloading \"${filename}\": `;\n",
              "      div.appendChild(label);\n",
              "      const progress = document.createElement('progress');\n",
              "      progress.max = size;\n",
              "      div.appendChild(progress);\n",
              "      document.body.appendChild(div);\n",
              "\n",
              "      const buffers = [];\n",
              "      let downloaded = 0;\n",
              "\n",
              "      const channel = await google.colab.kernel.comms.open(id);\n",
              "      // Send a message to notify the kernel that we're ready.\n",
              "      channel.send({})\n",
              "\n",
              "      for await (const message of channel.messages) {\n",
              "        // Send a message to notify the kernel that we're ready.\n",
              "        channel.send({})\n",
              "        if (message.buffers) {\n",
              "          for (const buffer of message.buffers) {\n",
              "            buffers.push(buffer);\n",
              "            downloaded += buffer.byteLength;\n",
              "            progress.value = downloaded;\n",
              "          }\n",
              "        }\n",
              "      }\n",
              "      const blob = new Blob(buffers, {type: 'application/binary'});\n",
              "      const a = document.createElement('a');\n",
              "      a.href = window.URL.createObjectURL(blob);\n",
              "      a.download = filename;\n",
              "      div.appendChild(a);\n",
              "      a.click();\n",
              "      div.remove();\n",
              "    }\n",
              "  "
            ]
          },
          "metadata": {}
        },
        {
          "output_type": "display_data",
          "data": {
            "text/plain": [
              "<IPython.core.display.Javascript object>"
            ],
            "application/javascript": [
              "download(\"download_99d290fa-d694-4b65-8358-6cca4027e730\", \"subs6.srt\", 44558)"
            ]
          },
          "metadata": {}
        }
      ]
    },
    {
      "cell_type": "code",
      "source": [
        "trans_subs_list = subs_list.copy()\n",
        "\n",
        "trans_c_lines = trans_c.split('\\n')\n",
        "\n",
        "for sub, line in zip(trans_subs_list, trans_c_lines):\n",
        "    sub['text'] = line \n",
        "    \n",
        "def times_to_srt(times):\n",
        "    return f\"{times.h:02d}:{times.m:02d}:{times.s:02d},{times.ms:03d}\"\n",
        "\n",
        "index = 1\n",
        "srt_content = ''\n",
        "for sub in trans_subs_list: \n",
        "    start_time = times_to_srt(sub['start'])\n",
        "    end_time = times_to_srt(sub['end'])\n",
        "    text = sub['text']\n",
        "    srt_content += f'{index}\\n{start_time} --> {end_time}\\n{text}\\n\\n' \n",
        "    index += 1  \n",
        "with open('subs3.srt', 'w', encoding='utf-8') as f:\n",
        "    f.write(srt_content)\n",
        "files.download('subs3.srt')"
      ],
      "metadata": {
        "id": "SxesS7MCEHCT"
      },
      "execution_count": null,
      "outputs": []
    },
    {
      "cell_type": "code",
      "source": [
        "ls"
      ],
      "metadata": {
        "id": "zQ87-cXI1tG2"
      },
      "execution_count": null,
      "outputs": []
    },
    {
      "cell_type": "code",
      "source": [
        "subs_list[:3]"
      ],
      "metadata": {
        "id": "nGiOYUCf7jvW"
      },
      "execution_count": null,
      "outputs": []
    },
    {
      "cell_type": "code",
      "source": [
        "###1 原始１版　lode art 將時間存為ms to times 格式\n",
        "# 載入字幕檔\n",
        "subs = pysubs2.load('./sdmua-047-2.srt', encoding='utf-8')\n",
        "\n",
        "# 將字幕轉換成字典格式\n",
        "subs_list = []\n",
        "for line in subs:\n",
        "    start_time, end_time = ms_to_times(line.start), ms_to_times(line.end)\n",
        "    subs_list.append({\n",
        "        'start': start_time,\n",
        "        'end': end_time,\n",
        "        'text': line.text\n",
        "    })\n",
        "\n",
        "# 將每一行字幕合併成一整個文字\n",
        "\n",
        "alltext = '\\n'.join([l['text'] for l in subs_list])"
      ],
      "metadata": {
        "id": "pcYtOyi2zkf5"
      },
      "execution_count": null,
      "outputs": []
    },
    {
      "cell_type": "code",
      "source": [
        "#### 原始１版timecode H M S MS轉回srt timecode格式\n",
        "##上傳檔案\n",
        "with open('./sdmua-047-2c_utf8.txt', encoding='utf-8') as f:\n",
        "    trans_c = f.read()\n",
        "\n",
        "\n",
        "trans_subs_list = subs_list.copy()\n",
        "trans_c_lines = trans_c.split('\\n')\n",
        "for sub, line in zip(trans_subs_list, trans_c_lines):\n",
        "    sub['text'] = line  \n",
        "\n",
        "    \n",
        "def times_to_srt(times):\n",
        "    return f\"{times.h:02d}:{times.m:02d}:{times.s:02d},{times.ms:03d}\"\n",
        "\n",
        "index = 1\n",
        "srt_content = ''\n",
        "for sub in trans_subs_list: \n",
        "    start_time = times_to_srt(sub['start'])\n",
        "    end_time = times_to_srt(sub['end'])\n",
        "    text = sub['text']\n",
        "    srt_content += f'{index}\\n{start_time} --> {end_time}\\n{text}\\n\\n' \n",
        "    index += 1  \n",
        "with open('subs3.srt', 'w', encoding='utf-8') as f:\n",
        "    f.write(srt_content)\n",
        "files.download('subs4.srt')       "
      ],
      "metadata": {
        "colab": {
          "base_uri": "https://localhost:8080/",
          "height": 368
        },
        "id": "OxfGSchrhIZ0",
        "outputId": "3697df28-7eeb-4882-bbb1-6a09e930cbeb"
      },
      "execution_count": null,
      "outputs": [
        {
          "output_type": "error",
          "ename": "AttributeError",
          "evalue": "ignored",
          "traceback": [
            "\u001b[0;31m---------------------------------------------------------------------------\u001b[0m",
            "\u001b[0;31mAttributeError\u001b[0m                            Traceback (most recent call last)",
            "\u001b[0;32m<ipython-input-156-437cb0b7de80>\u001b[0m in \u001b[0;36m<cell line: 17>\u001b[0;34m()\u001b[0m\n\u001b[1;32m     16\u001b[0m \u001b[0msrt_content\u001b[0m \u001b[0;34m=\u001b[0m \u001b[0;34m''\u001b[0m\u001b[0;34m\u001b[0m\u001b[0;34m\u001b[0m\u001b[0m\n\u001b[1;32m     17\u001b[0m \u001b[0;32mfor\u001b[0m \u001b[0msub\u001b[0m \u001b[0;32min\u001b[0m \u001b[0mtrans_subs_list\u001b[0m\u001b[0;34m:\u001b[0m\u001b[0;34m\u001b[0m\u001b[0;34m\u001b[0m\u001b[0m\n\u001b[0;32m---> 18\u001b[0;31m     \u001b[0mstart_time\u001b[0m \u001b[0;34m=\u001b[0m \u001b[0mtimes_to_srt\u001b[0m\u001b[0;34m(\u001b[0m\u001b[0msub\u001b[0m\u001b[0;34m[\u001b[0m\u001b[0;34m'start'\u001b[0m\u001b[0;34m]\u001b[0m\u001b[0;34m)\u001b[0m\u001b[0;34m\u001b[0m\u001b[0;34m\u001b[0m\u001b[0m\n\u001b[0m\u001b[1;32m     19\u001b[0m     \u001b[0mend_time\u001b[0m \u001b[0;34m=\u001b[0m \u001b[0mtimes_to_srt\u001b[0m\u001b[0;34m(\u001b[0m\u001b[0msub\u001b[0m\u001b[0;34m[\u001b[0m\u001b[0;34m'end'\u001b[0m\u001b[0;34m]\u001b[0m\u001b[0;34m)\u001b[0m\u001b[0;34m\u001b[0m\u001b[0;34m\u001b[0m\u001b[0m\n\u001b[1;32m     20\u001b[0m     \u001b[0mtext\u001b[0m \u001b[0;34m=\u001b[0m \u001b[0msub\u001b[0m\u001b[0;34m[\u001b[0m\u001b[0;34m'text'\u001b[0m\u001b[0;34m]\u001b[0m\u001b[0;34m\u001b[0m\u001b[0;34m\u001b[0m\u001b[0m\n",
            "\u001b[0;32m<ipython-input-156-437cb0b7de80>\u001b[0m in \u001b[0;36mtimes_to_srt\u001b[0;34m(times)\u001b[0m\n\u001b[1;32m     11\u001b[0m \u001b[0;34m\u001b[0m\u001b[0m\n\u001b[1;32m     12\u001b[0m \u001b[0;32mdef\u001b[0m \u001b[0mtimes_to_srt\u001b[0m\u001b[0;34m(\u001b[0m\u001b[0mtimes\u001b[0m\u001b[0;34m)\u001b[0m\u001b[0;34m:\u001b[0m\u001b[0;34m\u001b[0m\u001b[0;34m\u001b[0m\u001b[0m\n\u001b[0;32m---> 13\u001b[0;31m     \u001b[0;32mreturn\u001b[0m \u001b[0;34mf\"{times.h:02d}:{times.m:02d}:{times.s:02d},{times.ms:03d}\"\u001b[0m\u001b[0;34m\u001b[0m\u001b[0;34m\u001b[0m\u001b[0m\n\u001b[0m\u001b[1;32m     14\u001b[0m \u001b[0;34m\u001b[0m\u001b[0m\n\u001b[1;32m     15\u001b[0m \u001b[0mindex\u001b[0m \u001b[0;34m=\u001b[0m \u001b[0;36m1\u001b[0m\u001b[0;34m\u001b[0m\u001b[0;34m\u001b[0m\u001b[0m\n",
            "\u001b[0;31mAttributeError\u001b[0m: 'str' object has no attribute 'h'"
          ]
        }
      ]
    }
  ]
}